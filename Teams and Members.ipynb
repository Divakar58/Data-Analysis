{
 "cells": [
  {
   "cell_type": "code",
   "execution_count": 1,
   "metadata": {},
   "outputs": [],
   "source": [
    "#importing libraries\n",
    "import numpy as np\n",
    "import pandas as pd\n",
    "import requests\n",
    "from bs4 import BeautifulSoup\n"
   ]
  },
  {
   "cell_type": "code",
   "execution_count": 2,
   "metadata": {},
   "outputs": [],
   "source": [
    "from selenium import webdriver\n",
    "from selenium.webdriver.common.keys import Keys"
   ]
  },
  {
   "cell_type": "code",
   "execution_count": 3,
   "metadata": {},
   "outputs": [],
   "source": [
    "url='https://www.prokabaddi.com'\n",
    "#headers={Mozilla/5.0 (Windows 6.1; Win64; x64; rv:47.0) Gecko/20100101 Firefox/47.0}\n",
    "#headers are used to look like humanas and get avoided blocking by the servers.\n",
    "headers = {'user-agent': 'Mozilla/5.0 (Macintosh; Intel Mac OS X 10_11_6) AppleWebKit/537.36 (KHTML, like Gecko) Chrome/53.0.2785.143 Safari/537.36'}"
   ]
  },
  {
   "cell_type": "code",
   "execution_count": 4,
   "metadata": {},
   "outputs": [],
   "source": [
    "response=requests.get(url,headers=headers)"
   ]
  },
  {
   "cell_type": "code",
   "execution_count": null,
   "metadata": {},
   "outputs": [],
   "source": [
    "driver=webdriver.Chrome(r'C:\\Users\\Administrator\\Downloads\\chromedriver_win32\\chromedriver.exe')\n",
    "driver.get(url)"
   ]
  },
  {
   "cell_type": "code",
   "execution_count": 5,
   "metadata": {},
   "outputs": [
    {
     "data": {
      "text/plain": [
       "<Response [200]>"
      ]
     },
     "execution_count": 5,
     "metadata": {},
     "output_type": "execute_result"
    }
   ],
   "source": [
    "response"
   ]
  },
  {
   "cell_type": "code",
   "execution_count": 6,
   "metadata": {},
   "outputs": [],
   "source": [
    "soup=BeautifulSoup(response.text)"
   ]
  },
  {
   "cell_type": "code",
   "execution_count": 7,
   "metadata": {},
   "outputs": [],
   "source": [
    "team=soup.find_all('div',{'class':'si-plyrName'})"
   ]
  },
  {
   "cell_type": "code",
   "execution_count": 8,
   "metadata": {},
   "outputs": [
    {
     "data": {
      "text/plain": [
       "[]"
      ]
     },
     "execution_count": 8,
     "metadata": {},
     "output_type": "execute_result"
    }
   ],
   "source": [
    "team"
   ]
  },
  {
   "cell_type": "code",
   "execution_count": 8,
   "metadata": {},
   "outputs": [],
   "source": [
    "teams_links=soup.find_all('div',{'class':'submenu-item'})[2].find_all('a')"
   ]
  },
  {
   "cell_type": "code",
   "execution_count": 9,
   "metadata": {},
   "outputs": [
    {
     "data": {
      "text/plain": [
       "[<a data-id=\"teams/bengal-warriors-profile-4\" href=\"/teams/bengal-warriors-profile-4\">Bengal Warriors</a>,\n",
       " <a data-id=\"teams/bengaluru-bulls-profile-1\" href=\"/teams/bengaluru-bulls-profile-1\">Bengaluru Bulls</a>,\n",
       " <a data-id=\"teams/dabang-delhi-kc-profile-2\" href=\"/teams/dabang-delhi-kc-profile-2\">Dabang Delhi K.C.</a>,\n",
       " <a data-id=\"teams/gujarat-fortunegiants-profile-31\" href=\"/teams/gujarat-fortunegiants-profile-31\">Gujarat Fortunegiants</a>,\n",
       " <a data-id=\"teams/haryana-steelers-profile-28\" href=\"/teams/haryana-steelers-profile-28\">Haryana Steelers</a>,\n",
       " <a data-id=\"teams/jaipur-pink-panthers-profile-3\" href=\"/teams/jaipur-pink-panthers-profile-3\">Jaipur Pink Panthers</a>,\n",
       " <a data-id=\"teams/patna-pirates-profile-6\" href=\"/teams/patna-pirates-profile-6\">Patna Pirates</a>,\n",
       " <a data-id=\"teams/puneri-paltan-profile-7\" href=\"/teams/puneri-paltan-profile-7\">Puneri Paltan</a>,\n",
       " <a data-id=\"teams/tamil-thalaivas-profile-29\" href=\"/teams/tamil-thalaivas-profile-29\">Tamil Thalaivas</a>,\n",
       " <a data-id=\"teams/telugu-titans-profile-8\" href=\"/teams/telugu-titans-profile-8\">Telugu Titans</a>,\n",
       " <a data-id=\"teams/u-mumba-profile-5\" href=\"/teams/u-mumba-profile-5\">U Mumba</a>,\n",
       " <a data-id=\"teams/up-yoddha-profile-30\" href=\"/teams/up-yoddha-profile-30\">U.P. Yoddha</a>]"
      ]
     },
     "execution_count": 9,
     "metadata": {},
     "output_type": "execute_result"
    }
   ],
   "source": [
    "teams_links"
   ]
  },
  {
   "cell_type": "code",
   "execution_count": 50,
   "metadata": {},
   "outputs": [
    {
     "data": {
      "text/plain": [
       "'U.P. Yoddha'"
      ]
     },
     "execution_count": 50,
     "metadata": {},
     "output_type": "execute_result"
    }
   ],
   "source": [
    "teams_links[11].text"
   ]
  },
  {
   "cell_type": "code",
   "execution_count": 21,
   "metadata": {},
   "outputs": [
    {
     "data": {
      "text/plain": [
       "'s/teams/bengal-warriors-profile-4'"
      ]
     },
     "execution_count": 21,
     "metadata": {},
     "output_type": "execute_result"
    }
   ],
   "source": [
    "'https://www.prokabaddi.com/'+teams_links[0].attrs['href']"
   ]
  },
  {
   "cell_type": "code",
   "execution_count": 40,
   "metadata": {},
   "outputs": [
    {
     "data": {
      "text/plain": [
       "20"
      ]
     },
     "execution_count": 40,
     "metadata": {},
     "output_type": "execute_result"
    }
   ],
   "source": [
    "len(team)"
   ]
  },
  {
   "cell_type": "code",
   "execution_count": 65,
   "metadata": {},
   "outputs": [],
   "source": [
    "team_names=[]\n",
    "for i in range(len(teams_links)):\n",
    "    team_names.append(teams_links[i].text)"
   ]
  },
  {
   "cell_type": "code",
   "execution_count": 66,
   "metadata": {},
   "outputs": [
    {
     "data": {
      "text/plain": [
       "['Bengal Warriors',\n",
       " 'Bengaluru Bulls',\n",
       " 'Dabang Delhi K.C.',\n",
       " 'Gujarat Fortunegiants',\n",
       " 'Haryana Steelers',\n",
       " 'Jaipur Pink Panthers',\n",
       " 'Patna Pirates',\n",
       " 'Puneri Paltan',\n",
       " 'Tamil Thalaivas',\n",
       " 'Telugu Titans',\n",
       " 'U Mumba',\n",
       " 'U.P. Yoddha']"
      ]
     },
     "execution_count": 66,
     "metadata": {},
     "output_type": "execute_result"
    }
   ],
   "source": [
    "team_names"
   ]
  },
  {
   "cell_type": "code",
   "execution_count": 64,
   "metadata": {},
   "outputs": [
    {
     "ename": "IndexError",
     "evalue": "list assignment index out of range",
     "output_type": "error",
     "traceback": [
      "\u001b[1;31m---------------------------------------------------------------------------\u001b[0m",
      "\u001b[1;31mIndexError\u001b[0m                                Traceback (most recent call last)",
      "\u001b[1;32m<ipython-input-64-e184c983a996>\u001b[0m in \u001b[0;36m<module>\u001b[1;34m\u001b[0m\n\u001b[0;32m     21\u001b[0m     \u001b[0mdit\u001b[0m\u001b[1;33m[\u001b[0m\u001b[1;34m'role'\u001b[0m\u001b[1;33m]\u001b[0m\u001b[1;33m=\u001b[0m\u001b[0mrole\u001b[0m\u001b[1;33m\u001b[0m\u001b[1;33m\u001b[0m\u001b[0m\n\u001b[0;32m     22\u001b[0m \u001b[1;33m\u001b[0m\u001b[0m\n\u001b[1;32m---> 23\u001b[1;33m     \u001b[0mteam_names\u001b[0m\u001b[1;33m[\u001b[0m\u001b[0mi\u001b[0m\u001b[1;33m]\u001b[0m\u001b[1;33m=\u001b[0m\u001b[0mpd\u001b[0m\u001b[1;33m.\u001b[0m\u001b[0mDataFrame\u001b[0m\u001b[1;33m(\u001b[0m\u001b[0mdit\u001b[0m\u001b[1;33m)\u001b[0m\u001b[1;33m\u001b[0m\u001b[1;33m\u001b[0m\u001b[0m\n\u001b[0m\u001b[0;32m     24\u001b[0m \u001b[1;33m\u001b[0m\u001b[0m\n\u001b[0;32m     25\u001b[0m \u001b[1;33m\u001b[0m\u001b[0m\n",
      "\u001b[1;31mIndexError\u001b[0m: list assignment index out of range"
     ]
    }
   ],
   "source": [
    "driver=webdriver.Chrome(r'C:\\Users\\Administrator\\Downloads\\chromedriver_win32\\chromedriver.exe')\n",
    "for i in range(len(teams_links)):\n",
    "    driver.get('https://www.prokabaddi.com/'+teams_links[i].attrs['href'])    \n",
    "    driver.maximize_window()\n",
    "    element=driver.find_element_by_link_text('VIEW FULL SQUAD')\n",
    "    element.click()\n",
    "    soup1=BeautifulSoup(driver.page_source)\n",
    "    team=soup1.find_all('div',{'class':'si-plyrName'})\n",
    "    roles=soup1.find_all('div',{'class':'si-plyrRole'})\n",
    "    dit={}\n",
    "    first_name=[]\n",
    "    last_name=[]\n",
    "    role=[]\n",
    "    for i in range(len(team)):\n",
    "        first_name.append(team[i].find_all('div',{'class':'si-txt1'})[0].text)\n",
    "        last_name.append(team[i].find_all('div',{'class':'si-txt2'})[0].text)\n",
    "        role.append(roles[i].text)\n",
    "    \n",
    "    dit['firstname']=first_name\n",
    "    dit['lastname']=last_name\n",
    "    dit['role']=role\n",
    "    \n",
    "    team_names[i]=pd.DataFrame(dit)\n",
    "    team_names[i][\"fullname\"]=team_names[i]['firstname']+' '+team_names[i]['lastname']\n",
    "    \n",
    "    \n"
   ]
  },
  {
   "cell_type": "code",
   "execution_count": 48,
   "metadata": {},
   "outputs": [
    {
     "data": {
      "text/plain": [
       "{'firstname': ['Nitesh',\n",
       "  'Ankush',\n",
       "  'Azad',\n",
       "  'Gulveer',\n",
       "  'Md.',\n",
       "  'Monu',\n",
       "  'Rishank',\n",
       "  'Shrikant',\n",
       "  'Surender',\n",
       "  'Surender',\n",
       "  'Ashu',\n",
       "  'Aashish',\n",
       "  'Amit',\n",
       "  'Sumit',\n",
       "  'Arkam',\n",
       "  'Gurdeep',\n",
       "  'Mohsen',\n",
       "  'Narender',\n",
       "  'Sachin'],\n",
       " 'lastname': ['Kumar',\n",
       "  '',\n",
       "  'Singh',\n",
       "  'Singh',\n",
       "  'Masud Karim ',\n",
       "  'Goyat',\n",
       "  'Devadiga',\n",
       "  'Jadhav',\n",
       "  'Gill',\n",
       "  'Singh',\n",
       "  'Singh',\n",
       "  'Nagar',\n",
       "  '',\n",
       "  '',\n",
       "  'Shaikh',\n",
       "  '',\n",
       "  'Maghsoudloujafari',\n",
       "  '',\n",
       "  'Kumar'],\n",
       " 'role': ['Defender, right corner',\n",
       "  'Raider',\n",
       "  'Raider',\n",
       "  'Raider',\n",
       "  'Raider',\n",
       "  'Raider',\n",
       "  'Raider',\n",
       "  'Raider',\n",
       "  'Raider',\n",
       "  'Raider',\n",
       "  'Defender, right cover',\n",
       "  'Defender, right corner',\n",
       "  'Defender, left cover',\n",
       "  'Defender, left corner',\n",
       "  'All Rounder',\n",
       "  'All Rounder',\n",
       "  'All Rounder',\n",
       "  'All Rounder',\n",
       "  'All Rounder']}"
      ]
     },
     "execution_count": 48,
     "metadata": {},
     "output_type": "execute_result"
    }
   ],
   "source": [
    "dit"
   ]
  },
  {
   "cell_type": "code",
   "execution_count": 35,
   "metadata": {},
   "outputs": [
    {
     "data": {
      "text/plain": [
       "['Kumar',\n",
       " '',\n",
       " 'Singh',\n",
       " 'Singh',\n",
       " 'Masud Karim ',\n",
       " 'Goyat',\n",
       " 'Devadiga',\n",
       " 'Jadhav',\n",
       " 'Gill',\n",
       " 'Singh',\n",
       " 'Singh',\n",
       " 'Nagar',\n",
       " '',\n",
       " '',\n",
       " 'Shaikh',\n",
       " '',\n",
       " 'Maghsoudloujafari',\n",
       " '',\n",
       " 'Kumar']"
      ]
     },
     "execution_count": 35,
     "metadata": {},
     "output_type": "execute_result"
    }
   ],
   "source": []
  },
  {
   "cell_type": "code",
   "execution_count": null,
   "metadata": {},
   "outputs": [],
   "source": []
  },
  {
   "cell_type": "code",
   "execution_count": null,
   "metadata": {},
   "outputs": [],
   "source": []
  },
  {
   "cell_type": "code",
   "execution_count": null,
   "metadata": {},
   "outputs": [],
   "source": []
  },
  {
   "cell_type": "code",
   "execution_count": null,
   "metadata": {},
   "outputs": [],
   "source": []
  }
 ],
 "metadata": {
  "kernelspec": {
   "display_name": "Python 3",
   "language": "python",
   "name": "python3"
  },
  "language_info": {
   "codemirror_mode": {
    "name": "ipython",
    "version": 3
   },
   "file_extension": ".py",
   "mimetype": "text/x-python",
   "name": "python",
   "nbconvert_exporter": "python",
   "pygments_lexer": "ipython3",
   "version": "3.7.3"
  }
 },
 "nbformat": 4,
 "nbformat_minor": 2
}
